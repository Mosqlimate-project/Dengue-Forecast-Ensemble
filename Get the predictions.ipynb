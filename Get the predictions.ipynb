{
 "cells": [
  {
   "cell_type": "code",
   "execution_count": 1,
   "id": "ca088e10-22f5-42aa-ab14-c2de824300b6",
   "metadata": {},
   "outputs": [],
   "source": [
    "import numpy as np\n",
    "import pandas as pd\n",
    "from epiweeks import Week\n",
    "import matplotlib.pyplot as plt\n",
    "from matplotlib.lines import Line2D\n",
    "from mosqlient import get_predictions\n",
    "\n",
    "import seaborn as sns\n",
    "import dataframe_image as dfi\n",
    "from itertools import product\n",
    "import matplotlib.dates as mdates\n",
    "\n",
    "plt.rcParams.update({'font.size': 14})\n",
    "\n",
    "import warnings\n",
    "warnings.simplefilter(action='ignore', category=FutureWarning)"
   ]
  },
  {
   "cell_type": "code",
   "execution_count": 2,
   "id": "eee0fb4c-49ae-45b8-86da-33f9e5b9306d",
   "metadata": {},
   "outputs": [],
   "source": [
    "def get_preds(model_id):\n",
    "\n",
    "    list_of_preds = []\n",
    "    \n",
    "    if model_id == 27:\n",
    "\n",
    "        for p_id in np.arange(250,260):\n",
    "            \n",
    "            list_of_preds.append(get_predictions(id = int(p_id)))\n",
    "\n",
    "    elif model_id == 28:\n",
    "\n",
    "        for p_id in np.arange(260,270):\n",
    "            \n",
    "            list_of_preds.append(get_predictions(id = int(p_id)))\n",
    "\n",
    "    else: \n",
    "        list_of_preds = get_predictions(model_id = model_id)\n",
    "\n",
    "\n",
    "    return list_of_preds \n",
    "\n"
   ]
  },
  {
   "cell_type": "code",
   "execution_count": 4,
   "id": "ea0d8d27-e299-4e3c-8f09-e80ff239d4b5",
   "metadata": {},
   "outputs": [
    {
     "name": "stdout",
     "output_type": "stream",
     "text": [
      "250\n",
      "251\n",
      "252\n",
      "253\n",
      "254\n",
      "255\n",
      "256\n",
      "257\n",
      "258\n",
      "259\n",
      "CPU times: user 742 ms, sys: 123 ms, total: 865 ms\n",
      "Wall time: 33.5 s\n"
     ]
    }
   ],
   "source": [
    "%%time\n",
    "for model_id in [21, 22, 25,26, 27, 28, 29, 30]:\n",
    "\n",
    "    list_of_preds = get_preds(model_id)\n",
    "\n",
    "    for idx in np.arange(0, len(list_of_preds)): \n",
    "\n",
    "        df = list_of_preds[idx].to_dataframe()\n",
    "        df = df.sort_values(by='date')\n",
    "        state = df.adm_1.unique()[0]\n",
    "\n",
    "        if state in ['AM', 'CE', 'GO', 'PR', 'MG']:\n",
    "            year = pd.to_datetime(df.date).dt.year.max()\n",
    "            if model_id == 26:\n",
    "                \n",
    "                model_id_ = 25\n",
    "            else:\n",
    "                model_id_ = model_id\n",
    "                \n",
    "            df.to_csv(f'./predictions/preds_{model_id_}_{state}_{year}.csv.gz',index = False)\n"
   ]
  },
  {
   "cell_type": "code",
   "execution_count": null,
   "id": "94658288-0f27-4baa-a85f-1a9e8fed63c9",
   "metadata": {},
   "outputs": [],
   "source": []
  }
 ],
 "metadata": {
  "kernelspec": {
   "display_name": "Python 3 (ipykernel)",
   "language": "python",
   "name": "python3"
  },
  "language_info": {
   "codemirror_mode": {
    "name": "ipython",
    "version": 3
   },
   "file_extension": ".py",
   "mimetype": "text/x-python",
   "name": "python",
   "nbconvert_exporter": "python",
   "pygments_lexer": "ipython3",
   "version": "3.12.4"
  }
 },
 "nbformat": 4,
 "nbformat_minor": 5
}
